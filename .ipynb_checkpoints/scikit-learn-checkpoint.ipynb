{
 "cells": [
  {
   "cell_type": "markdown",
   "metadata": {},
   "source": [
    "# 사이킷런이란?\n",
    "\n",
    "사이킷런은 대표적인 파이썬 머신러닝 라이브러리입니다.\n",
    "\n",
    "이 강의에서는 Classification(분류), Regression(회귀) 모델을 주로 사용합니다.\n",
    "\n",
    " \n",
    "\n",
    "# 머신러닝 알고리즘\n",
    "\n",
    "알고리즘은 조리기구입니다! 우리는 알고리즘을 활용하여 데이터를 요리할 수 있습니다.\n",
    "\n",
    "어떤 알고리즘을 사용하는 가에 따라 성능은 다르게 나타납니다.\n",
    "\n",
    " \n",
    "\n",
    "# 머신러닝 문제\n",
    "\n",
    "크게는 정답이 있는 문제인 Supervised learning(지도학습)과 정답이 없는 Clustering(클러스터링), Dimensionality reduction(차원 축소)과 같은 문제를 해결하는 Unsupervised learning(비지도학습)으로 나뉩니다."
   ]
  },
  {
   "cell_type": "markdown",
   "metadata": {},
   "source": [
    "https://scikit-learn.org/\n",
    "같은 알고리즘이더라도, 데이터에 따라서 성능이 달라진다. \n",
    "\n",
    "`supervised` : 정답이 있는 데이터는 classification, regression 으로 예측을 한다. <br>\n",
    "`unsupervised` : 정답이 없는 데이터는 unsupervised 머신러닝을 사용한다."
   ]
  },
  {
   "cell_type": "markdown",
   "metadata": {},
   "source": [
    "## `classification(분류)` : 고객의 물건 구매, 제품의 불량, 대출 승인\n",
    "## `regression(회귀)` : 재고량, 판매량, 매출액 예측\n",
    "## `clustering(군집화)` :\n",
    "## `semi-supervised learning`\n",
    "## `out of core learning`\n"
   ]
  },
  {
   "cell_type": "code",
   "execution_count": null,
   "metadata": {},
   "outputs": [],
   "source": []
  }
 ],
 "metadata": {
  "kernelspec": {
   "display_name": "pydatavenv",
   "language": "python",
   "name": "pydatavenv"
  },
  "language_info": {
   "codemirror_mode": {
    "name": "ipython",
    "version": 3
   },
   "file_extension": ".py",
   "mimetype": "text/x-python",
   "name": "python",
   "nbconvert_exporter": "python",
   "pygments_lexer": "ipython3",
   "version": "3.8.8"
  }
 },
 "nbformat": 4,
 "nbformat_minor": 4
}
