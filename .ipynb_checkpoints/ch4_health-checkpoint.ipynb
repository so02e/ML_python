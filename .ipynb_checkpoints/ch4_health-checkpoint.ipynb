{
 "cells": [
  {
   "cell_type": "markdown",
   "metadata": {},
   "source": [
    "# 가설검정 \n",
    "## (1) 음주 여부에 따라 pandas는 데이터 분석용 라이브러리,  numpy는 수치 계산 라이브러리, seaborn은 matplotlib을 사용하기 쉽게 만든 시각화 라이브러리입니다. matplotlib은 그래프의 폰트 바꾸기, 스타일 변경, 사이즈 조정, 서브 플롯 사용을 위해 로드하는 라이브러리입니다.\n",
    "\n",
    "건강검진 수치 차이가 있을까\n",
    "## (2) 신장과 허리둘레의 크기는 체중과 상관관계가 있을까"
   ]
  },
  {
   "cell_type": "markdown",
   "metadata": {},
   "source": [
    "`pandas`는 데이터 분석용 라이브러리,  `numpy`는 수치 계산 라이브러리, `seaborn`은 matplotlib을 사용하기 쉽게 만든 시각화 라이브러리입니다. `matplotlib`은 그래프의 폰트 바꾸기, 스타일 변경, 사이즈 조정, 서브 플롯 사용을 위해 로드하는 라이브러리입니다."
   ]
  },
  {
   "cell_type": "code",
   "execution_count": 14,
   "metadata": {},
   "outputs": [],
   "source": [
    "import pandas as pd\n",
    "import numpy as np\n",
    "import seaborn as sns\n",
    "import matplotlib.pyplot as plt\n",
    "import os"
   ]
  },
  {
   "cell_type": "code",
   "execution_count": 13,
   "metadata": {},
   "outputs": [],
   "source": [
    "plt.rc(\"font\", family=\"Malgun Gothic\")\n",
    "plt.rc(\"axes\", unicode_minus=False)\n",
    "%config InlineBackend.figure_format = \"retina\""
   ]
  },
  {
   "cell_type": "code",
   "execution_count": 18,
   "metadata": {},
   "outputs": [
    {
     "data": {
      "text/plain": [
       "(1000000, 34)"
      ]
     },
     "execution_count": 18,
     "metadata": {},
     "output_type": "execute_result"
    }
   ],
   "source": [
    "df = pd.read_csv(\"data/국민건강보험공단_건강검진정보_20191231.csv\", encoding =\"Ansi\")\n",
    "df.shape"
   ]
  },
  {
   "cell_type": "code",
   "execution_count": 20,
   "metadata": {},
   "outputs": [
    {
     "data": {
      "text/html": [
       "<div>\n",
       "<style scoped>\n",
       "    .dataframe tbody tr th:only-of-type {\n",
       "        vertical-align: middle;\n",
       "    }\n",
       "\n",
       "    .dataframe tbody tr th {\n",
       "        vertical-align: top;\n",
       "    }\n",
       "\n",
       "    .dataframe thead th {\n",
       "        text-align: right;\n",
       "    }\n",
       "</style>\n",
       "<table border=\"1\" class=\"dataframe\">\n",
       "  <thead>\n",
       "    <tr style=\"text-align: right;\">\n",
       "      <th></th>\n",
       "      <th>기준년도</th>\n",
       "      <th>가입자 일련번호</th>\n",
       "      <th>시도코드</th>\n",
       "      <th>성별코드</th>\n",
       "      <th>연령대 코드(5세단위)</th>\n",
       "      <th>신장(5Cm단위)</th>\n",
       "      <th>체중(5Kg 단위)</th>\n",
       "      <th>허리둘레</th>\n",
       "      <th>시력(좌)</th>\n",
       "      <th>시력(우)</th>\n",
       "      <th>...</th>\n",
       "      <th>감마 지티피</th>\n",
       "      <th>흡연상태</th>\n",
       "      <th>음주여부</th>\n",
       "      <th>구강검진 수검여부</th>\n",
       "      <th>치아우식증유무</th>\n",
       "      <th>결손치 유무</th>\n",
       "      <th>치아마모증유무</th>\n",
       "      <th>제3대구치(사랑니) 이상</th>\n",
       "      <th>치석</th>\n",
       "      <th>데이터 공개일자</th>\n",
       "    </tr>\n",
       "  </thead>\n",
       "  <tbody>\n",
       "    <tr>\n",
       "      <th>999998</th>\n",
       "      <td>2019</td>\n",
       "      <td>999999</td>\n",
       "      <td>30</td>\n",
       "      <td>1</td>\n",
       "      <td>8</td>\n",
       "      <td>170</td>\n",
       "      <td>75</td>\n",
       "      <td>85.0</td>\n",
       "      <td>0.8</td>\n",
       "      <td>0.8</td>\n",
       "      <td>...</td>\n",
       "      <td>29.0</td>\n",
       "      <td>2.0</td>\n",
       "      <td>1.0</td>\n",
       "      <td>1</td>\n",
       "      <td>0.0</td>\n",
       "      <td>미시행</td>\n",
       "      <td>미시행</td>\n",
       "      <td>미시행</td>\n",
       "      <td>0.0</td>\n",
       "      <td>20191231</td>\n",
       "    </tr>\n",
       "    <tr>\n",
       "      <th>999999</th>\n",
       "      <td>2019</td>\n",
       "      <td>1000000</td>\n",
       "      <td>11</td>\n",
       "      <td>2</td>\n",
       "      <td>10</td>\n",
       "      <td>155</td>\n",
       "      <td>65</td>\n",
       "      <td>86.0</td>\n",
       "      <td>0.5</td>\n",
       "      <td>0.5</td>\n",
       "      <td>...</td>\n",
       "      <td>9.0</td>\n",
       "      <td>1.0</td>\n",
       "      <td>NaN</td>\n",
       "      <td>1</td>\n",
       "      <td>0.0</td>\n",
       "      <td>미시행</td>\n",
       "      <td>미시행</td>\n",
       "      <td>미시행</td>\n",
       "      <td>1.0</td>\n",
       "      <td>20191231</td>\n",
       "    </tr>\n",
       "  </tbody>\n",
       "</table>\n",
       "<p>2 rows × 34 columns</p>\n",
       "</div>"
      ],
      "text/plain": [
       "        기준년도  가입자 일련번호  시도코드  성별코드  연령대 코드(5세단위)  신장(5Cm단위)  체중(5Kg 단위)  허리둘레  \\\n",
       "999998  2019    999999    30     1             8        170          75  85.0   \n",
       "999999  2019   1000000    11     2            10        155          65  86.0   \n",
       "\n",
       "        시력(좌)  시력(우)  ...  감마 지티피  흡연상태  음주여부  구강검진 수검여부  치아우식증유무  결손치 유무  \\\n",
       "999998    0.8    0.8  ...    29.0   2.0   1.0          1      0.0     미시행   \n",
       "999999    0.5    0.5  ...     9.0   1.0   NaN          1      0.0     미시행   \n",
       "\n",
       "        치아마모증유무  제3대구치(사랑니) 이상   치석  데이터 공개일자  \n",
       "999998      미시행            미시행  0.0  20191231  \n",
       "999999      미시행            미시행  1.0  20191231  \n",
       "\n",
       "[2 rows x 34 columns]"
      ]
     },
     "execution_count": 20,
     "metadata": {},
     "output_type": "execute_result"
    }
   ],
   "source": [
    "df.tail(2)"
   ]
  },
  {
   "cell_type": "markdown",
   "metadata": {},
   "source": [
    "### 데이터의 기본정보"
   ]
  },
  {
   "cell_type": "code",
   "execution_count": 23,
   "metadata": {},
   "outputs": [
    {
     "name": "stdout",
     "output_type": "stream",
     "text": [
      "<class 'pandas.core.frame.DataFrame'>\n",
      "RangeIndex: 1000000 entries, 0 to 999999\n",
      "Data columns (total 34 columns):\n",
      " #   Column         Non-Null Count    Dtype  \n",
      "---  ------         --------------    -----  \n",
      " 0   기준년도           1000000 non-null  int64  \n",
      " 1   가입자 일련번호       1000000 non-null  int64  \n",
      " 2   시도코드           1000000 non-null  int64  \n",
      " 3   성별코드           1000000 non-null  int64  \n",
      " 4   연령대 코드(5세단위)   1000000 non-null  int64  \n",
      " 5   신장(5Cm단위)      1000000 non-null  int64  \n",
      " 6   체중(5Kg 단위)     1000000 non-null  int64  \n",
      " 7   허리둘레           999597 non-null   float64\n",
      " 8   시력(좌)          999805 non-null   float64\n",
      " 9   시력(우)          999812 non-null   float64\n",
      " 10  청력(좌)          999819 non-null   float64\n",
      " 11  청력(우)          999822 non-null   float64\n",
      " 12  수축기 혈압         994576 non-null   float64\n",
      " 13  이완기 혈압         994575 non-null   float64\n",
      " 14  식전혈당(공복혈당)     994477 non-null   float64\n",
      " 15  총 콜레스테롤        333549 non-null   float64\n",
      " 16  트리글리세라이드       333544 non-null   float64\n",
      " 17  HDL 콜레스테롤      333541 non-null   float64\n",
      " 18  LDL 콜레스테롤      327148 non-null   float64\n",
      " 19  혈색소            994468 non-null   float64\n",
      " 20  요단백            989694 non-null   float64\n",
      " 21  혈청크레아티닌        994474 non-null   float64\n",
      " 22  (혈청지오티)AST     994478 non-null   float64\n",
      " 23  (혈청지오티)ALT     994477 non-null   float64\n",
      " 24  감마 지티피         994470 non-null   float64\n",
      " 25  흡연상태           999834 non-null   float64\n",
      " 26  음주여부           644918 non-null   float64\n",
      " 27  구강검진 수검여부      1000000 non-null  int64  \n",
      " 28  치아우식증유무        397680 non-null   float64\n",
      " 29  결손치 유무         1000000 non-null  object \n",
      " 30  치아마모증유무        1000000 non-null  object \n",
      " 31  제3대구치(사랑니) 이상  1000000 non-null  object \n",
      " 32  치석             397680 non-null   float64\n",
      " 33  데이터 공개일자       1000000 non-null  int64  \n",
      "dtypes: float64(22), int64(9), object(3)\n",
      "memory usage: 259.4+ MB\n"
     ]
    }
   ],
   "source": [
    "df.info()"
   ]
  },
  {
   "cell_type": "markdown",
   "metadata": {},
   "source": [
    "### 데이터의 컬럼만 출력"
   ]
  },
  {
   "cell_type": "code",
   "execution_count": 21,
   "metadata": {},
   "outputs": [
    {
     "data": {
      "text/plain": [
       "Index(['기준년도', '가입자 일련번호', '시도코드', '성별코드', '연령대 코드(5세단위)', '신장(5Cm단위)',\n",
       "       '체중(5Kg 단위)', '허리둘레', '시력(좌)', '시력(우)', '청력(좌)', '청력(우)', '수축기 혈압',\n",
       "       '이완기 혈압', '식전혈당(공복혈당)', '총 콜레스테롤', '트리글리세라이드', 'HDL 콜레스테롤', 'LDL 콜레스테롤',\n",
       "       '혈색소', '요단백', '혈청크레아티닌', '(혈청지오티)AST', '(혈청지오티)ALT', '감마 지티피', '흡연상태',\n",
       "       '음주여부', '구강검진 수검여부', '치아우식증유무', '결손치 유무', '치아마모증유무', '제3대구치(사랑니) 이상',\n",
       "       '치석', '데이터 공개일자'],\n",
       "      dtype='object')"
      ]
     },
     "execution_count": 21,
     "metadata": {},
     "output_type": "execute_result"
    }
   ],
   "source": [
    "df.columns"
   ]
  },
  {
   "cell_type": "markdown",
   "metadata": {},
   "source": [
    "### 데이터의 형식만 출력"
   ]
  },
  {
   "cell_type": "code",
   "execution_count": 26,
   "metadata": {},
   "outputs": [
    {
     "data": {
      "text/plain": [
       "기준년도               int64\n",
       "가입자 일련번호           int64\n",
       "시도코드               int64\n",
       "성별코드               int64\n",
       "연령대 코드(5세단위)       int64\n",
       "신장(5Cm단위)          int64\n",
       "체중(5Kg 단위)         int64\n",
       "허리둘레             float64\n",
       "시력(좌)            float64\n",
       "시력(우)            float64\n",
       "청력(좌)            float64\n",
       "청력(우)            float64\n",
       "수축기 혈압           float64\n",
       "이완기 혈압           float64\n",
       "식전혈당(공복혈당)       float64\n",
       "총 콜레스테롤          float64\n",
       "트리글리세라이드         float64\n",
       "HDL 콜레스테롤        float64\n",
       "LDL 콜레스테롤        float64\n",
       "혈색소              float64\n",
       "요단백              float64\n",
       "혈청크레아티닌          float64\n",
       "(혈청지오티)AST       float64\n",
       "(혈청지오티)ALT       float64\n",
       "감마 지티피           float64\n",
       "흡연상태             float64\n",
       "음주여부             float64\n",
       "구강검진 수검여부          int64\n",
       "치아우식증유무          float64\n",
       "결손치 유무            object\n",
       "치아마모증유무           object\n",
       "제3대구치(사랑니) 이상     object\n",
       "치석               float64\n",
       "데이터 공개일자           int64\n",
       "dtype: object"
      ]
     },
     "execution_count": 26,
     "metadata": {},
     "output_type": "execute_result"
    }
   ],
   "source": [
    "df.dtypes"
   ]
  },
  {
   "cell_type": "markdown",
   "metadata": {},
   "source": [
    "### 데이터의 결측치"
   ]
  },
  {
   "cell_type": "code",
   "execution_count": null,
   "metadata": {},
   "outputs": [],
   "source": []
  }
 ],
 "metadata": {
  "kernelspec": {
   "display_name": "pydatavenv",
   "language": "python",
   "name": "pydatavenv"
  },
  "language_info": {
   "codemirror_mode": {
    "name": "ipython",
    "version": 3
   },
   "file_extension": ".py",
   "mimetype": "text/x-python",
   "name": "python",
   "nbconvert_exporter": "python",
   "pygments_lexer": "ipython3",
   "version": "3.8.8"
  }
 },
 "nbformat": 4,
 "nbformat_minor": 4
}
