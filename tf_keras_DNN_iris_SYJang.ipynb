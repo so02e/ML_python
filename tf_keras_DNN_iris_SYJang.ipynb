{
  "nbformat": 4,
  "nbformat_minor": 0,
  "metadata": {
    "kernelspec": {
      "display_name": "Python 3",
      "language": "python",
      "name": "python3"
    },
    "language_info": {
      "codemirror_mode": {
        "name": "ipython",
        "version": 3
      },
      "file_extension": ".py",
      "mimetype": "text/x-python",
      "name": "python",
      "nbconvert_exporter": "python",
      "pygments_lexer": "ipython3",
      "version": "3.8.8"
    },
    "colab": {
      "name": "tf.keras_DNN_iris_SYJang.ipynb",
      "provenance": [],
      "collapsed_sections": [],
      "include_colab_link": true
    }
  },
  "cells": [
    {
      "cell_type": "markdown",
      "metadata": {
        "id": "view-in-github",
        "colab_type": "text"
      },
      "source": [
        "<a href=\"https://colab.research.google.com/github/so02e/ML_python/blob/main/tf_keras_DNN_iris_SYJang.ipynb\" target=\"_parent\"><img src=\"https://colab.research.google.com/assets/colab-badge.svg\" alt=\"Open In Colab\"/></a>"
      ]
    },
    {
      "cell_type": "code",
      "metadata": {
        "colab": {
          "base_uri": "https://localhost:8080/"
        },
        "id": "EYWPrHpHvOaT",
        "outputId": "b296fb96-634d-4f44-8ece-3d4655de0c50"
      },
      "source": [
        " from google.colab import drive\n",
        "\n",
        "drive.mount('/content/gdrive')   # google drive를 google colab에 연결. 처음 실행 시, 인증 필요 "
      ],
      "execution_count": 2,
      "outputs": [
        {
          "output_type": "stream",
          "name": "stdout",
          "text": [
            "Mounted at /content/gdrive\n"
          ]
        }
      ]
    },
    {
      "cell_type": "code",
      "metadata": {
        "id": "22UZuhWkLtVt"
      },
      "source": [
        "import numpy as np\n",
        "import pandas as pd\n",
        "import tensorflow as tf\n",
        "from tensorflow.keras import layers  #모듈(변수나 함수를 포함)만 불러오기\n",
        "\n",
        "# iris 데이터를 읽어 들이고 정규화하기\n",
        "dir = \"/content/gdrive/My Drive/Colab Notebooks/AI/\"\n",
        "df = pd.read_csv(dir + \"iris.csv\")"
      ],
      "execution_count": 3,
      "outputs": []
    },
    {
      "cell_type": "code",
      "metadata": {
        "colab": {
          "base_uri": "https://localhost:8080/",
          "height": 417
        },
        "id": "3GAFF1QOk58E",
        "outputId": "9abdabda-558c-4ea6-bd3e-e36e4933cbf8"
      },
      "source": [
        "df"
      ],
      "execution_count": 7,
      "outputs": [
        {
          "output_type": "execute_result",
          "data": {
            "text/html": [
              "<div>\n",
              "<style scoped>\n",
              "    .dataframe tbody tr th:only-of-type {\n",
              "        vertical-align: middle;\n",
              "    }\n",
              "\n",
              "    .dataframe tbody tr th {\n",
              "        vertical-align: top;\n",
              "    }\n",
              "\n",
              "    .dataframe thead th {\n",
              "        text-align: right;\n",
              "    }\n",
              "</style>\n",
              "<table border=\"1\" class=\"dataframe\">\n",
              "  <thead>\n",
              "    <tr style=\"text-align: right;\">\n",
              "      <th></th>\n",
              "      <th>sepal_length</th>\n",
              "      <th>sepal_width</th>\n",
              "      <th>petal_length</th>\n",
              "      <th>petal_width</th>\n",
              "      <th>iris_type</th>\n",
              "    </tr>\n",
              "  </thead>\n",
              "  <tbody>\n",
              "    <tr>\n",
              "      <th>0</th>\n",
              "      <td>6.4</td>\n",
              "      <td>3.1</td>\n",
              "      <td>5.5</td>\n",
              "      <td>1.8</td>\n",
              "      <td>Iris-virginica</td>\n",
              "    </tr>\n",
              "    <tr>\n",
              "      <th>1</th>\n",
              "      <td>6.5</td>\n",
              "      <td>3.0</td>\n",
              "      <td>5.8</td>\n",
              "      <td>2.2</td>\n",
              "      <td>Iris-virginica</td>\n",
              "    </tr>\n",
              "    <tr>\n",
              "      <th>2</th>\n",
              "      <td>4.6</td>\n",
              "      <td>3.1</td>\n",
              "      <td>1.5</td>\n",
              "      <td>0.2</td>\n",
              "      <td>Iris-setosa</td>\n",
              "    </tr>\n",
              "    <tr>\n",
              "      <th>3</th>\n",
              "      <td>6.4</td>\n",
              "      <td>2.8</td>\n",
              "      <td>5.6</td>\n",
              "      <td>2.1</td>\n",
              "      <td>Iris-virginica</td>\n",
              "    </tr>\n",
              "    <tr>\n",
              "      <th>4</th>\n",
              "      <td>5.0</td>\n",
              "      <td>3.3</td>\n",
              "      <td>1.4</td>\n",
              "      <td>0.2</td>\n",
              "      <td>Iris-setosa</td>\n",
              "    </tr>\n",
              "    <tr>\n",
              "      <th>...</th>\n",
              "      <td>...</td>\n",
              "      <td>...</td>\n",
              "      <td>...</td>\n",
              "      <td>...</td>\n",
              "      <td>...</td>\n",
              "    </tr>\n",
              "    <tr>\n",
              "      <th>145</th>\n",
              "      <td>5.1</td>\n",
              "      <td>3.8</td>\n",
              "      <td>1.9</td>\n",
              "      <td>0.4</td>\n",
              "      <td>Iris-setosa</td>\n",
              "    </tr>\n",
              "    <tr>\n",
              "      <th>146</th>\n",
              "      <td>5.7</td>\n",
              "      <td>2.8</td>\n",
              "      <td>4.5</td>\n",
              "      <td>1.3</td>\n",
              "      <td>Iris-versicolor</td>\n",
              "    </tr>\n",
              "    <tr>\n",
              "      <th>147</th>\n",
              "      <td>6.9</td>\n",
              "      <td>3.1</td>\n",
              "      <td>5.4</td>\n",
              "      <td>2.1</td>\n",
              "      <td>Iris-virginica</td>\n",
              "    </tr>\n",
              "    <tr>\n",
              "      <th>148</th>\n",
              "      <td>7.2</td>\n",
              "      <td>3.0</td>\n",
              "      <td>5.8</td>\n",
              "      <td>1.6</td>\n",
              "      <td>Iris-virginica</td>\n",
              "    </tr>\n",
              "    <tr>\n",
              "      <th>149</th>\n",
              "      <td>4.9</td>\n",
              "      <td>3.0</td>\n",
              "      <td>1.4</td>\n",
              "      <td>0.2</td>\n",
              "      <td>Iris-setosa</td>\n",
              "    </tr>\n",
              "  </tbody>\n",
              "</table>\n",
              "<p>150 rows × 5 columns</p>\n",
              "</div>"
            ],
            "text/plain": [
              "     sepal_length  sepal_width  petal_length  petal_width        iris_type\n",
              "0             6.4          3.1           5.5          1.8   Iris-virginica\n",
              "1             6.5          3.0           5.8          2.2   Iris-virginica\n",
              "2             4.6          3.1           1.5          0.2      Iris-setosa\n",
              "3             6.4          2.8           5.6          2.1   Iris-virginica\n",
              "4             5.0          3.3           1.4          0.2      Iris-setosa\n",
              "..            ...          ...           ...          ...              ...\n",
              "145           5.1          3.8           1.9          0.4      Iris-setosa\n",
              "146           5.7          2.8           4.5          1.3  Iris-versicolor\n",
              "147           6.9          3.1           5.4          2.1   Iris-virginica\n",
              "148           7.2          3.0           5.8          1.6   Iris-virginica\n",
              "149           4.9          3.0           1.4          0.2      Iris-setosa\n",
              "\n",
              "[150 rows x 5 columns]"
            ]
          },
          "metadata": {},
          "execution_count": 7
        }
      ]
    },
    {
      "cell_type": "code",
      "metadata": {
        "colab": {
          "base_uri": "https://localhost:8080/"
        },
        "id": "8vDzDZklFMPE",
        "outputId": "a0e8e8c9-437e-47ff-abb0-6df2b9dc3b68"
      },
      "source": [
        "print(df['iris_type'].unique())"
      ],
      "execution_count": 5,
      "outputs": [
        {
          "output_type": "stream",
          "name": "stdout",
          "text": [
            "['Iris-virginica' 'Iris-setosa' 'Iris-versicolor']\n"
          ]
        }
      ]
    },
    {
      "cell_type": "code",
      "metadata": {
        "colab": {
          "base_uri": "https://localhost:8080/",
          "height": 295
        },
        "id": "ZP1AR5S9KNZW",
        "outputId": "2e01d703-5371-4fca-9660-6c0b367528ac"
      },
      "source": [
        "df.describe()"
      ],
      "execution_count": 8,
      "outputs": [
        {
          "output_type": "execute_result",
          "data": {
            "text/html": [
              "<div>\n",
              "<style scoped>\n",
              "    .dataframe tbody tr th:only-of-type {\n",
              "        vertical-align: middle;\n",
              "    }\n",
              "\n",
              "    .dataframe tbody tr th {\n",
              "        vertical-align: top;\n",
              "    }\n",
              "\n",
              "    .dataframe thead th {\n",
              "        text-align: right;\n",
              "    }\n",
              "</style>\n",
              "<table border=\"1\" class=\"dataframe\">\n",
              "  <thead>\n",
              "    <tr style=\"text-align: right;\">\n",
              "      <th></th>\n",
              "      <th>sepal_length</th>\n",
              "      <th>sepal_width</th>\n",
              "      <th>petal_length</th>\n",
              "      <th>petal_width</th>\n",
              "    </tr>\n",
              "  </thead>\n",
              "  <tbody>\n",
              "    <tr>\n",
              "      <th>count</th>\n",
              "      <td>150.000000</td>\n",
              "      <td>150.000000</td>\n",
              "      <td>150.000000</td>\n",
              "      <td>150.000000</td>\n",
              "    </tr>\n",
              "    <tr>\n",
              "      <th>mean</th>\n",
              "      <td>5.843333</td>\n",
              "      <td>3.054000</td>\n",
              "      <td>3.758667</td>\n",
              "      <td>1.198667</td>\n",
              "    </tr>\n",
              "    <tr>\n",
              "      <th>std</th>\n",
              "      <td>0.828066</td>\n",
              "      <td>0.433594</td>\n",
              "      <td>1.764420</td>\n",
              "      <td>0.763161</td>\n",
              "    </tr>\n",
              "    <tr>\n",
              "      <th>min</th>\n",
              "      <td>4.300000</td>\n",
              "      <td>2.000000</td>\n",
              "      <td>1.000000</td>\n",
              "      <td>0.100000</td>\n",
              "    </tr>\n",
              "    <tr>\n",
              "      <th>25%</th>\n",
              "      <td>5.100000</td>\n",
              "      <td>2.800000</td>\n",
              "      <td>1.600000</td>\n",
              "      <td>0.300000</td>\n",
              "    </tr>\n",
              "    <tr>\n",
              "      <th>50%</th>\n",
              "      <td>5.800000</td>\n",
              "      <td>3.000000</td>\n",
              "      <td>4.350000</td>\n",
              "      <td>1.300000</td>\n",
              "    </tr>\n",
              "    <tr>\n",
              "      <th>75%</th>\n",
              "      <td>6.400000</td>\n",
              "      <td>3.300000</td>\n",
              "      <td>5.100000</td>\n",
              "      <td>1.800000</td>\n",
              "    </tr>\n",
              "    <tr>\n",
              "      <th>max</th>\n",
              "      <td>7.900000</td>\n",
              "      <td>4.400000</td>\n",
              "      <td>6.900000</td>\n",
              "      <td>2.500000</td>\n",
              "    </tr>\n",
              "  </tbody>\n",
              "</table>\n",
              "</div>"
            ],
            "text/plain": [
              "       sepal_length  sepal_width  petal_length  petal_width\n",
              "count    150.000000   150.000000    150.000000   150.000000\n",
              "mean       5.843333     3.054000      3.758667     1.198667\n",
              "std        0.828066     0.433594      1.764420     0.763161\n",
              "min        4.300000     2.000000      1.000000     0.100000\n",
              "25%        5.100000     2.800000      1.600000     0.300000\n",
              "50%        5.800000     3.000000      4.350000     1.300000\n",
              "75%        6.400000     3.300000      5.100000     1.800000\n",
              "max        7.900000     4.400000      6.900000     2.500000"
            ]
          },
          "metadata": {},
          "execution_count": 8
        }
      ]
    },
    {
      "cell_type": "code",
      "metadata": {
        "id": "WaC6EJH_kwwz"
      },
      "source": [
        "X = df.iloc[:,0:4]\n",
        "\n",
        "# 레이블\n",
        "bclass = {\"Iris-virginica\":[1,0,0], \"Iris-setosa\":[0,1,0], \"Iris-versicolor\":[0,0,1]}\n",
        "y = np.empty((150,3))     # 150x3 크기의 다차원 벡터 생성\n",
        "for i, v in enumerate(df[\"iris_type\"]):\n",
        "    y[i] = bclass[v]        #\"sepal_length\"이면, y[i]=[1,0,0] 와 같이 할당\n",
        "    \n",
        "# 훈련 전용 데이터와 테스트 전용 데이터로 나누기\n",
        "X_train, y_train = X[0:100], y[0:100]\n",
        "X_test,  y_test  = X[101:151], y[101:151]"
      ],
      "execution_count": 33,
      "outputs": []
    },
    {
      "cell_type": "code",
      "metadata": {
        "scrolled": true,
        "id": "G2UgYhccLtVu"
      },
      "source": [
        "# 모델 구조 정의하기\n",
        "model = tf.keras.Sequential()  #순차적 계층화 준비\n",
        "model.add(layers.Dense(64, input_shape=(4,)))  #입력 4개로부터 전달받는 64개 노드의 layer 생성\n",
        "model.add(layers.Activation('relu'))  #ReLU 활성화함수 채택\n",
        "model.add(layers.Dropout(0.2))        #dropout ratio=20% (배치 훈련시 20% arc 무시)\n",
        "\n",
        "\n",
        "model.add(layers.Dense(32))         #16개 노드의 layer 생성\n",
        "model.add(layers.Activation('relu')) #ReLU 활성화함수 채택\n",
        "model.add(layers.Dropout(0.1))  #dropout ratio=10% (배치 훈련시 10% arc 무시)\n",
        "\n",
        "\n",
        "model.add(layers.Dense(3))\n",
        "model.add(layers.Activation('softmax')) #분류(classification)을 위해 softmax 함수 사용\n",
        "\n",
        "# 모델 구축하기\n",
        "model.compile(\n",
        "    loss='categorical_crossentropy',  #다중 교차엔트로피\n",
        "    optimizer=\"rmsprop\",   #최적화 기법 중 하나\n",
        "    metrics=['accuracy'])  #정확도 측정"
      ],
      "execution_count": 150,
      "outputs": []
    },
    {
      "cell_type": "code",
      "metadata": {
        "scrolled": true,
        "id": "2IhHchdXLtVv",
        "colab": {
          "base_uri": "https://localhost:8080/"
        },
        "outputId": "6844d19a-0d8c-4d4d-e683-b909d9a9f276"
      },
      "source": [
        "# 데이터 훈련하기\n",
        "hist = model.fit(\n",
        "    X_train, y_train,\n",
        "    batch_size=10, #10개에 한 번씩 업데이터 실행\n",
        "    epochs=300, #훈련 데이터셋을 총 300회 반복 실험. 단, 조기중지될 수 있음\n",
        "    validation_split=0.1,  \n",
        "      #validation data 분할 비율. 즉, 150개 중에서 10%인 15개를 validation용으로 분할\n",
        "    callbacks=[tf.keras.callbacks.EarlyStopping(monitor='val_loss', patience=5)],  \n",
        "      #'val_loss'를 monitor하여 감소하면 한 번 더(1) 참고 조기중지\n",
        "    verbose=1)  #전 과정을 화면에 출력(1) 또는 미출력(0) 모드\n",
        "\n",
        "# 테스트 데이터로 평가하기\n",
        "score = model.evaluate(X_test, y_test)\n",
        "print('test_loss: ', score[0])\n",
        "print('test_acc: ', score[1])"
      ],
      "execution_count": 151,
      "outputs": [
        {
          "output_type": "stream",
          "name": "stdout",
          "text": [
            "Epoch 1/300\n",
            "9/9 [==============================] - 1s 20ms/step - loss: 1.1388 - accuracy: 0.3667 - val_loss: 1.1116 - val_accuracy: 0.1000\n",
            "Epoch 2/300\n",
            "9/9 [==============================] - 0s 3ms/step - loss: 0.9988 - accuracy: 0.4778 - val_loss: 0.9785 - val_accuracy: 0.7000\n",
            "Epoch 3/300\n",
            "9/9 [==============================] - 0s 4ms/step - loss: 0.9834 - accuracy: 0.5333 - val_loss: 0.8238 - val_accuracy: 0.7000\n",
            "Epoch 4/300\n",
            "9/9 [==============================] - 0s 4ms/step - loss: 0.9188 - accuracy: 0.5778 - val_loss: 0.7847 - val_accuracy: 0.7000\n",
            "Epoch 5/300\n",
            "9/9 [==============================] - 0s 5ms/step - loss: 0.8907 - accuracy: 0.5889 - val_loss: 0.7650 - val_accuracy: 0.7000\n",
            "Epoch 6/300\n",
            "9/9 [==============================] - 0s 4ms/step - loss: 0.8210 - accuracy: 0.5556 - val_loss: 0.7041 - val_accuracy: 0.7000\n",
            "Epoch 7/300\n",
            "9/9 [==============================] - 0s 4ms/step - loss: 0.8013 - accuracy: 0.5667 - val_loss: 0.5863 - val_accuracy: 0.7000\n",
            "Epoch 8/300\n",
            "9/9 [==============================] - 0s 4ms/step - loss: 0.7065 - accuracy: 0.7000 - val_loss: 0.5602 - val_accuracy: 0.7000\n",
            "Epoch 9/300\n",
            "9/9 [==============================] - 0s 4ms/step - loss: 0.7015 - accuracy: 0.7000 - val_loss: 0.4778 - val_accuracy: 0.7000\n",
            "Epoch 10/300\n",
            "9/9 [==============================] - 0s 4ms/step - loss: 0.6502 - accuracy: 0.7111 - val_loss: 0.4040 - val_accuracy: 1.0000\n",
            "Epoch 11/300\n",
            "9/9 [==============================] - 0s 4ms/step - loss: 0.6423 - accuracy: 0.7111 - val_loss: 0.3612 - val_accuracy: 1.0000\n",
            "Epoch 12/300\n",
            "9/9 [==============================] - 0s 4ms/step - loss: 0.5652 - accuracy: 0.7889 - val_loss: 0.3196 - val_accuracy: 1.0000\n",
            "Epoch 13/300\n",
            "9/9 [==============================] - 0s 4ms/step - loss: 0.5498 - accuracy: 0.7667 - val_loss: 0.2868 - val_accuracy: 1.0000\n",
            "Epoch 14/300\n",
            "9/9 [==============================] - 0s 4ms/step - loss: 0.4906 - accuracy: 0.7778 - val_loss: 0.2668 - val_accuracy: 1.0000\n",
            "Epoch 15/300\n",
            "9/9 [==============================] - 0s 3ms/step - loss: 0.5210 - accuracy: 0.7444 - val_loss: 0.2286 - val_accuracy: 1.0000\n",
            "Epoch 16/300\n",
            "9/9 [==============================] - 0s 4ms/step - loss: 0.5107 - accuracy: 0.7556 - val_loss: 0.2093 - val_accuracy: 1.0000\n",
            "Epoch 17/300\n",
            "9/9 [==============================] - 0s 5ms/step - loss: 0.4539 - accuracy: 0.7889 - val_loss: 0.2029 - val_accuracy: 1.0000\n",
            "Epoch 18/300\n",
            "9/9 [==============================] - 0s 4ms/step - loss: 0.4549 - accuracy: 0.8000 - val_loss: 0.1945 - val_accuracy: 1.0000\n",
            "Epoch 19/300\n",
            "9/9 [==============================] - 0s 4ms/step - loss: 0.4542 - accuracy: 0.7444 - val_loss: 0.1627 - val_accuracy: 1.0000\n",
            "Epoch 20/300\n",
            "9/9 [==============================] - 0s 4ms/step - loss: 0.4360 - accuracy: 0.8111 - val_loss: 0.1541 - val_accuracy: 1.0000\n",
            "Epoch 21/300\n",
            "9/9 [==============================] - 0s 5ms/step - loss: 0.3440 - accuracy: 0.8667 - val_loss: 0.1550 - val_accuracy: 1.0000\n",
            "Epoch 22/300\n",
            "9/9 [==============================] - 0s 4ms/step - loss: 0.3968 - accuracy: 0.8333 - val_loss: 0.1510 - val_accuracy: 1.0000\n",
            "Epoch 23/300\n",
            "9/9 [==============================] - 0s 3ms/step - loss: 0.3471 - accuracy: 0.8444 - val_loss: 0.1477 - val_accuracy: 1.0000\n",
            "Epoch 24/300\n",
            "9/9 [==============================] - 0s 4ms/step - loss: 0.4028 - accuracy: 0.8000 - val_loss: 0.1323 - val_accuracy: 1.0000\n",
            "Epoch 25/300\n",
            "9/9 [==============================] - 0s 4ms/step - loss: 0.3300 - accuracy: 0.9000 - val_loss: 0.1201 - val_accuracy: 1.0000\n",
            "Epoch 26/300\n",
            "9/9 [==============================] - 0s 4ms/step - loss: 0.3232 - accuracy: 0.9000 - val_loss: 0.1440 - val_accuracy: 1.0000\n",
            "Epoch 27/300\n",
            "9/9 [==============================] - 0s 4ms/step - loss: 0.3283 - accuracy: 0.8778 - val_loss: 0.1098 - val_accuracy: 1.0000\n",
            "Epoch 28/300\n",
            "9/9 [==============================] - 0s 4ms/step - loss: 0.3082 - accuracy: 0.8778 - val_loss: 0.1182 - val_accuracy: 1.0000\n",
            "Epoch 29/300\n",
            "9/9 [==============================] - 0s 4ms/step - loss: 0.2866 - accuracy: 0.9000 - val_loss: 0.1266 - val_accuracy: 1.0000\n",
            "Epoch 30/300\n",
            "9/9 [==============================] - 0s 4ms/step - loss: 0.2900 - accuracy: 0.9222 - val_loss: 0.0924 - val_accuracy: 1.0000\n",
            "Epoch 31/300\n",
            "9/9 [==============================] - 0s 4ms/step - loss: 0.2998 - accuracy: 0.8778 - val_loss: 0.0976 - val_accuracy: 1.0000\n",
            "Epoch 32/300\n",
            "9/9 [==============================] - 0s 3ms/step - loss: 0.3165 - accuracy: 0.8889 - val_loss: 0.0961 - val_accuracy: 1.0000\n",
            "Epoch 33/300\n",
            "9/9 [==============================] - 0s 4ms/step - loss: 0.2557 - accuracy: 0.9333 - val_loss: 0.0663 - val_accuracy: 1.0000\n",
            "Epoch 34/300\n",
            "9/9 [==============================] - 0s 4ms/step - loss: 0.2695 - accuracy: 0.8889 - val_loss: 0.0695 - val_accuracy: 1.0000\n",
            "Epoch 35/300\n",
            "9/9 [==============================] - 0s 6ms/step - loss: 0.2239 - accuracy: 0.9556 - val_loss: 0.0583 - val_accuracy: 1.0000\n",
            "Epoch 36/300\n",
            "9/9 [==============================] - 0s 4ms/step - loss: 0.2358 - accuracy: 0.9222 - val_loss: 0.0562 - val_accuracy: 1.0000\n",
            "Epoch 37/300\n",
            "9/9 [==============================] - 0s 4ms/step - loss: 0.2470 - accuracy: 0.9000 - val_loss: 0.0531 - val_accuracy: 1.0000\n",
            "Epoch 38/300\n",
            "9/9 [==============================] - 0s 3ms/step - loss: 0.2235 - accuracy: 0.9333 - val_loss: 0.0493 - val_accuracy: 1.0000\n",
            "Epoch 39/300\n",
            "9/9 [==============================] - 0s 3ms/step - loss: 0.2226 - accuracy: 0.9333 - val_loss: 0.0644 - val_accuracy: 1.0000\n",
            "Epoch 40/300\n",
            "9/9 [==============================] - 0s 4ms/step - loss: 0.2221 - accuracy: 0.9333 - val_loss: 0.0464 - val_accuracy: 1.0000\n",
            "Epoch 41/300\n",
            "9/9 [==============================] - 0s 4ms/step - loss: 0.2522 - accuracy: 0.8889 - val_loss: 0.0454 - val_accuracy: 1.0000\n",
            "Epoch 42/300\n",
            "9/9 [==============================] - 0s 4ms/step - loss: 0.2170 - accuracy: 0.9111 - val_loss: 0.0336 - val_accuracy: 1.0000\n",
            "Epoch 43/300\n",
            "9/9 [==============================] - 0s 5ms/step - loss: 0.2251 - accuracy: 0.9111 - val_loss: 0.0376 - val_accuracy: 1.0000\n",
            "Epoch 44/300\n",
            "9/9 [==============================] - 0s 4ms/step - loss: 0.2198 - accuracy: 0.9111 - val_loss: 0.0414 - val_accuracy: 1.0000\n",
            "Epoch 45/300\n",
            "9/9 [==============================] - 0s 4ms/step - loss: 0.1774 - accuracy: 0.9667 - val_loss: 0.0276 - val_accuracy: 1.0000\n",
            "Epoch 46/300\n",
            "9/9 [==============================] - 0s 4ms/step - loss: 0.2124 - accuracy: 0.8889 - val_loss: 0.0356 - val_accuracy: 1.0000\n",
            "Epoch 47/300\n",
            "9/9 [==============================] - 0s 4ms/step - loss: 0.1939 - accuracy: 0.9222 - val_loss: 0.0279 - val_accuracy: 1.0000\n",
            "Epoch 48/300\n",
            "9/9 [==============================] - 0s 4ms/step - loss: 0.2074 - accuracy: 0.9222 - val_loss: 0.0366 - val_accuracy: 1.0000\n",
            "Epoch 49/300\n",
            "9/9 [==============================] - 0s 4ms/step - loss: 0.2006 - accuracy: 0.9111 - val_loss: 0.0286 - val_accuracy: 1.0000\n",
            "Epoch 50/300\n",
            "9/9 [==============================] - 0s 3ms/step - loss: 0.1407 - accuracy: 0.9778 - val_loss: 0.0232 - val_accuracy: 1.0000\n",
            "Epoch 51/300\n",
            "9/9 [==============================] - 0s 4ms/step - loss: 0.1661 - accuracy: 0.9333 - val_loss: 0.0253 - val_accuracy: 1.0000\n",
            "Epoch 52/300\n",
            "9/9 [==============================] - 0s 4ms/step - loss: 0.1792 - accuracy: 0.9333 - val_loss: 0.0188 - val_accuracy: 1.0000\n",
            "Epoch 53/300\n",
            "9/9 [==============================] - 0s 4ms/step - loss: 0.1642 - accuracy: 0.9333 - val_loss: 0.0221 - val_accuracy: 1.0000\n",
            "Epoch 54/300\n",
            "9/9 [==============================] - 0s 4ms/step - loss: 0.1580 - accuracy: 0.9333 - val_loss: 0.0177 - val_accuracy: 1.0000\n",
            "Epoch 55/300\n",
            "9/9 [==============================] - 0s 4ms/step - loss: 0.1693 - accuracy: 0.9667 - val_loss: 0.0243 - val_accuracy: 1.0000\n",
            "Epoch 56/300\n",
            "9/9 [==============================] - 0s 4ms/step - loss: 0.1282 - accuracy: 0.9667 - val_loss: 0.0165 - val_accuracy: 1.0000\n",
            "Epoch 57/300\n",
            "9/9 [==============================] - 0s 4ms/step - loss: 0.1491 - accuracy: 0.9556 - val_loss: 0.0159 - val_accuracy: 1.0000\n",
            "Epoch 58/300\n",
            "9/9 [==============================] - 0s 4ms/step - loss: 0.1222 - accuracy: 0.9667 - val_loss: 0.0254 - val_accuracy: 1.0000\n",
            "Epoch 59/300\n",
            "9/9 [==============================] - 0s 4ms/step - loss: 0.1695 - accuracy: 0.9222 - val_loss: 0.0174 - val_accuracy: 1.0000\n",
            "Epoch 60/300\n",
            "9/9 [==============================] - 0s 4ms/step - loss: 0.1464 - accuracy: 0.9444 - val_loss: 0.0225 - val_accuracy: 1.0000\n",
            "Epoch 61/300\n",
            "9/9 [==============================] - 0s 4ms/step - loss: 0.1516 - accuracy: 0.9556 - val_loss: 0.0150 - val_accuracy: 1.0000\n",
            "Epoch 62/300\n",
            "9/9 [==============================] - 0s 4ms/step - loss: 0.1302 - accuracy: 0.9444 - val_loss: 0.0119 - val_accuracy: 1.0000\n",
            "Epoch 63/300\n",
            "9/9 [==============================] - 0s 4ms/step - loss: 0.1861 - accuracy: 0.9222 - val_loss: 0.0131 - val_accuracy: 1.0000\n",
            "Epoch 64/300\n",
            "9/9 [==============================] - 0s 4ms/step - loss: 0.1484 - accuracy: 0.9556 - val_loss: 0.0134 - val_accuracy: 1.0000\n",
            "Epoch 65/300\n",
            "9/9 [==============================] - 0s 4ms/step - loss: 0.1350 - accuracy: 0.9444 - val_loss: 0.0115 - val_accuracy: 1.0000\n",
            "Epoch 66/300\n",
            "9/9 [==============================] - 0s 4ms/step - loss: 0.1294 - accuracy: 0.9333 - val_loss: 0.0115 - val_accuracy: 1.0000\n",
            "Epoch 67/300\n",
            "9/9 [==============================] - 0s 4ms/step - loss: 0.1141 - accuracy: 0.9556 - val_loss: 0.0092 - val_accuracy: 1.0000\n",
            "Epoch 68/300\n",
            "9/9 [==============================] - 0s 5ms/step - loss: 0.1478 - accuracy: 0.9444 - val_loss: 0.0109 - val_accuracy: 1.0000\n",
            "Epoch 69/300\n",
            "9/9 [==============================] - 0s 4ms/step - loss: 0.1435 - accuracy: 0.9333 - val_loss: 0.0128 - val_accuracy: 1.0000\n",
            "Epoch 70/300\n",
            "9/9 [==============================] - 0s 4ms/step - loss: 0.1587 - accuracy: 0.9222 - val_loss: 0.0113 - val_accuracy: 1.0000\n",
            "Epoch 71/300\n",
            "9/9 [==============================] - 0s 3ms/step - loss: 0.1328 - accuracy: 0.9444 - val_loss: 0.0104 - val_accuracy: 1.0000\n",
            "Epoch 72/300\n",
            "9/9 [==============================] - 0s 4ms/step - loss: 0.1190 - accuracy: 0.9556 - val_loss: 0.0112 - val_accuracy: 1.0000\n",
            "2/2 [==============================] - 0s 6ms/step - loss: 0.1037 - accuracy: 1.0000\n",
            "test_loss:  0.10372401028871536\n",
            "test_acc:  1.0\n"
          ]
        }
      ]
    },
    {
      "cell_type": "code",
      "metadata": {
        "colab": {
          "base_uri": "https://localhost:8080/"
        },
        "id": "eVZ2sf6Gb5Y-",
        "outputId": "50e22b26-a080-4c75-a6d2-8cfa4f8b4fd7"
      },
      "source": [
        "hist.history.keys()"
      ],
      "execution_count": 156,
      "outputs": [
        {
          "output_type": "execute_result",
          "data": {
            "text/plain": [
              "dict_keys(['loss', 'accuracy', 'val_loss', 'val_accuracy'])"
            ]
          },
          "metadata": {},
          "execution_count": 156
        }
      ]
    },
    {
      "cell_type": "code",
      "metadata": {
        "scrolled": true,
        "id": "Hh1NwcAwLtVw",
        "colab": {
          "base_uri": "https://localhost:8080/",
          "height": 279
        },
        "outputId": "4096a35b-4ac8-4f0c-b358-00f1ee7f333a"
      },
      "source": [
        "import matplotlib.pyplot as plt\n",
        "\n",
        "fig, loss_ax = plt.subplots()\n",
        "acc_ax = loss_ax.twinx()\n",
        "\n",
        "loss_ax.plot(hist.history['loss'], 'y', label='train loss')\n",
        "loss_ax.plot(hist.history['val_loss'], 'r', label='val loss')\n",
        "\n",
        "acc_ax.plot(hist.history['accuracy'], 'b', label='train acc')\n",
        "acc_ax.plot(hist.history['val_accuracy'], 'g', label='val acc')\n",
        "\n",
        "loss_ax.set_xlabel('epoch')\n",
        "loss_ax.set_ylabel('loss')\n",
        "acc_ax.set_ylabel('accuray')\n",
        "\n",
        "loss_ax.legend(loc='upper left')\n",
        "acc_ax.legend(loc='lower left')\n",
        "\n",
        "plt.show()"
      ],
      "execution_count": 157,
      "outputs": [
        {
          "output_type": "display_data",
          "data": {
            "image/png": "[encoded data removed]",
            "text/plain": [
              "<Figure size 432x288 with 2 Axes>"
            ]
          },
          "metadata": {
            "needs_background": "light"
          }
        }
      ]
    },
    {
      "cell_type": "code",
      "metadata": {
        "id": "a0LNN770LtVw",
        "colab": {
          "base_uri": "https://localhost:8080/"
        },
        "outputId": "5a39fea0-816c-4849-c576-edbdb856b549"
      },
      "source": [
        "model.summary()"
      ],
      "execution_count": 158,
      "outputs": [
        {
          "output_type": "stream",
          "name": "stdout",
          "text": [
            "Model: \"sequential_11\"\n",
            "_________________________________________________________________\n",
            "Layer (type)                 Output Shape              Param #   \n",
            "=================================================================\n",
            "dense_35 (Dense)             (None, 64)                320       \n",
            "_________________________________________________________________\n",
            "activation_35 (Activation)   (None, 64)                0         \n",
            "_________________________________________________________________\n",
            "dropout_24 (Dropout)         (None, 64)                0         \n",
            "_________________________________________________________________\n",
            "dense_36 (Dense)             (None, 32)                2080      \n",
            "_________________________________________________________________\n",
            "activation_36 (Activation)   (None, 32)                0         \n",
            "_________________________________________________________________\n",
            "dropout_25 (Dropout)         (None, 32)                0         \n",
            "_________________________________________________________________\n",
            "dense_37 (Dense)             (None, 3)                 99        \n",
            "_________________________________________________________________\n",
            "activation_37 (Activation)   (None, 3)                 0         \n",
            "=================================================================\n",
            "Total params: 2,499\n",
            "Trainable params: 2,499\n",
            "Non-trainable params: 0\n",
            "_________________________________________________________________\n"
          ]
        }
      ]
    },
    {
      "cell_type": "code",
      "metadata": {
        "colab": {
          "base_uri": "https://localhost:8080/"
        },
        "id": "Ap06VxZI5Aog",
        "outputId": "c6fc1b22-6961-433c-c2da-2fa7bccca81c"
      },
      "source": [
        "model.get_weights()"
      ],
      "execution_count": 159,
      "outputs": [
        {
          "output_type": "execute_result",
          "data": {
            "text/plain": [
              "[array([[-0.14364223, -0.09170078,  0.20662187,  0.06120177, -0.17792587,\n",
              "          0.08446594,  0.15546623, -0.06156182,  0.06298817, -0.04801513,\n",
              "         -0.22814031,  0.25975114,  0.25974292,  0.18507381,  0.11606517,\n",
              "         -0.15730017, -0.0345535 ,  0.01606034, -0.17482403,  0.0631735 ,\n",
              "          0.08057135,  0.0688    ,  0.02256304, -0.30598953,  0.03605801,\n",
              "         -0.23490278, -0.11449122, -0.23421532,  0.12973721,  0.0874772 ,\n",
              "          0.05354551,  0.01899162,  0.29698864, -0.13798812, -0.06364188,\n",
              "         -0.10097924,  0.09643658, -0.23689193,  0.09288131,  0.06741929,\n",
              "         -0.06151901,  0.13102931, -0.2699818 ,  0.02343902,  0.1824122 ,\n",
              "         -0.14786683, -0.23454258, -0.10374556,  0.00739726,  0.03589683,\n",
              "          0.17727678,  0.1520003 ,  0.18750675, -0.29703224,  0.20185754,\n",
              "         -0.09837657,  0.20752585, -0.02390084, -0.24997559, -0.12361479,\n",
              "          0.12883648,  0.29306912,  0.16372639,  0.09937178],\n",
              "        [-0.23991117, -0.2651923 ,  0.23903784, -0.22173734,  0.19565393,\n",
              "          0.29388314, -0.3067137 , -0.20238128,  0.03470522, -0.27673158,\n",
              "          0.10671121, -0.02797063,  0.24522418, -0.29032373,  0.0868616 ,\n",
              "         -0.28763855, -0.29240856,  0.2513287 ,  0.18060988,  0.00385525,\n",
              "         -0.10595958, -0.12271954, -0.28956935,  0.20349982, -0.253441  ,\n",
              "         -0.1392269 , -0.26641092, -0.08847743,  0.22613223, -0.1474035 ,\n",
              "         -0.2670272 , -0.03030261, -0.12645999,  0.09397569, -0.11134112,\n",
              "          0.09023276, -0.26409036, -0.12146127,  0.23114555, -0.24868488,\n",
              "         -0.09325724, -0.2673173 ,  0.10471647, -0.26785162,  0.15487573,\n",
              "          0.00434515,  0.01528415, -0.04804516,  0.07436057, -0.2771627 ,\n",
              "          0.00906355, -0.0499514 ,  0.08763499,  0.1274384 ,  0.00661903,\n",
              "          0.06569868,  0.24266143, -0.13062564,  0.19046807,  0.00747466,\n",
              "         -0.19054511, -0.03220633, -0.29429793, -0.13276805],\n",
              "        [-0.04142335,  0.08830774, -0.3699135 ,  0.09755793,  0.10515572,\n",
              "         -0.17946318,  0.1547285 , -0.16988781,  0.13360322, -0.13190976,\n",
              "         -0.20959423, -0.288524  , -0.38286117, -0.00845579,  0.13680379,\n",
              "          0.01454079, -0.12751737, -0.01172149,  0.07581013, -0.00570601,\n",
              "         -0.27637577, -0.0463022 , -0.1129355 ,  0.32564947, -0.14709276,\n",
              "          0.24794263, -0.03504458, -0.11189981,  0.1039176 ,  0.01880951,\n",
              "          0.19383153, -0.22736454, -0.28960964,  0.18615702,  0.31934848,\n",
              "          0.13851504,  0.08787164, -0.02029648,  0.16369863, -0.23726529,\n",
              "          0.23427892, -0.1779191 ,  0.26322114, -0.11801088, -0.24689758,\n",
              "         -0.23008853,  0.25092185, -0.02453297, -0.01336099,  0.3640629 ,\n",
              "         -0.08117305, -0.10514396,  0.06681529, -0.01245108,  0.19716606,\n",
              "         -0.03379083, -0.23635021, -0.25163153,  0.16301039, -0.06223419,\n",
              "         -0.26331273, -0.04240328,  0.1839556 ,  0.02520414],\n",
              "        [ 0.29675162, -0.01497975, -0.0598937 ,  0.15868579, -0.2709679 ,\n",
              "         -0.25780836,  0.18955766,  0.22955954,  0.10147751,  0.11574405,\n",
              "         -0.16138442,  0.00556448, -0.12419144,  0.2179568 , -0.333493  ,\n",
              "         -0.12205715,  0.13199565, -0.40463543, -0.011237  ,  0.17551629,\n",
              "         -0.09781829, -0.25073934, -0.02611271,  0.3700922 , -0.04150075,\n",
              "         -0.11234832, -0.0039562 ,  0.26111734, -0.04606202,  0.1616808 ,\n",
              "         -0.13642581,  0.16873449, -0.0535949 ,  0.1341228 ,  0.22445513,\n",
              "         -0.01029954,  0.31392777,  0.04837236, -0.2576316 , -0.04262391,\n",
              "          0.3437531 ,  0.24578851,  0.29029977,  0.18807665, -0.08349811,\n",
              "         -0.14906788, -0.21879981,  0.2901345 ,  0.15894718,  0.25790578,\n",
              "         -0.36278033, -0.003935  , -0.04728084,  0.14755005, -0.13528381,\n",
              "          0.1830813 , -0.38985345,  0.17536288, -0.04464704,  0.02867523,\n",
              "         -0.07119574, -0.10425491,  0.37797186,  0.25327146]],\n",
              "       dtype=float32),\n",
              " array([ 0.        ,  0.        ,  0.07072656, -0.0828547 , -0.01188974,\n",
              "         0.12125116, -0.04546914,  0.        , -0.15672636,  0.        ,\n",
              "         0.        ,  0.13320886,  0.04231279, -0.10457402,  0.04753666,\n",
              "         0.        ,  0.        ,  0.09964358,  0.        , -0.08522082,\n",
              "         0.        ,  0.        ,  0.        , -0.04823308,  0.        ,\n",
              "         0.        ,  0.        ,  0.        , -0.07340725, -0.06851622,\n",
              "        -0.05611772,  0.        ,  0.05556749, -0.08536296, -0.06437982,\n",
              "        -0.09958909, -0.07481578,  0.        , -0.03054872,  0.        ,\n",
              "        -0.06758267,  0.        , -0.07374158,  0.        , -0.02827443,\n",
              "         0.        ,  0.        ,  0.        , -0.08013327,  0.00701076,\n",
              "         0.09329525,  0.01882144, -0.02472069,  0.        , -0.04065948,\n",
              "         0.        ,  0.05629488,  0.        ,  0.        ,  0.        ,\n",
              "         0.        ,  0.03065124, -0.14398548, -0.04802423], dtype=float32),\n",
              " array([[ 0.11248183, -0.18393666, -0.23833317, ..., -0.17133659,\n",
              "          0.00681359, -0.18133223],\n",
              "        [-0.0505017 ,  0.08341688,  0.15268338, ...,  0.09786439,\n",
              "         -0.00126523, -0.01706159],\n",
              "        [-0.0937883 , -0.36025548, -0.03827614, ..., -0.22209859,\n",
              "          0.3470135 ,  0.10935966],\n",
              "        ...,\n",
              "        [ 0.22555424, -0.14856054,  0.18572229, ..., -0.16738884,\n",
              "          0.18176126, -0.1768569 ],\n",
              "        [-0.03430035,  0.06438896, -0.22570942, ..., -0.09367175,\n",
              "         -0.2346227 ,  0.1469156 ],\n",
              "        [ 0.4177367 , -0.00692555, -0.13377169, ..., -0.14770408,\n",
              "         -0.24575977,  0.17766087]], dtype=float32),\n",
              " array([ 0.08131844, -0.05446363,  0.01256962,  0.07616282, -0.06384668,\n",
              "         0.0907747 ,  0.07428314, -0.02884414,  0.11433446,  0.09890234,\n",
              "         0.14632998,  0.05339229, -0.04768599, -0.00235387,  0.07074977,\n",
              "         0.00120164, -0.00946682,  0.15281779, -0.0086075 ,  0.03821617,\n",
              "         0.01080199, -0.08233112,  0.05176098, -0.04177993, -0.06285021,\n",
              "        -0.01206285,  0.03576443,  0.01596363,  0.05651342, -0.02662494,\n",
              "         0.06207152, -0.03967162], dtype=float32),\n",
              " array([[ 0.30739075, -0.30184844,  0.2796789 ],\n",
              "        [ 0.41550526, -0.01091252, -0.40743014],\n",
              "        [-0.00395871,  0.19942045, -0.31347033],\n",
              "        [-0.01507508, -0.37003776,  0.27120256],\n",
              "        [ 0.44695053, -0.26660258, -0.07861991],\n",
              "        [-0.13510753,  0.39677155,  0.4388597 ],\n",
              "        [-0.26974198,  0.35265583, -0.4619305 ],\n",
              "        [ 0.28460464, -0.5983562 , -0.16596927],\n",
              "        [-0.41072753,  0.36763355,  0.28418213],\n",
              "        [-0.5542822 ,  0.4950344 , -0.4512426 ],\n",
              "        [-0.15837857,  0.48561677,  0.34847647],\n",
              "        [-0.3344623 , -0.4254768 , -0.11670851],\n",
              "        [-0.09852629, -0.04580744,  0.3695646 ],\n",
              "        [-0.067922  ,  0.02534706,  0.08875627],\n",
              "        [-0.46358857,  0.145358  ,  0.3262016 ],\n",
              "        [ 0.07043042, -0.69739103,  0.02308412],\n",
              "        [-0.02930449,  0.02593871,  0.27266702],\n",
              "        [-0.32491127,  0.1247346 ,  0.06925768],\n",
              "        [ 0.05987501, -0.63788456, -0.07971676],\n",
              "        [-0.00374913, -0.5595237 ,  0.15666458],\n",
              "        [ 0.09381061, -0.5567702 , -0.13493451],\n",
              "        [ 0.4582494 , -0.19371301, -0.17021859],\n",
              "        [-0.3871142 ,  0.21744047, -0.40445518],\n",
              "        [ 0.36608523, -0.7190112 , -0.04018861],\n",
              "        [-0.28978848,  0.002149  , -0.0286036 ],\n",
              "        [ 0.19492827, -0.15215927,  0.36779132],\n",
              "        [ 0.20249084, -0.17960511,  0.23261702],\n",
              "        [ 0.24670948, -0.00176411, -0.257367  ],\n",
              "        [ 0.16338465,  0.08310977, -0.33604813],\n",
              "        [-0.33226937,  0.36534652, -0.30071625],\n",
              "        [-0.16643086,  0.5619994 , -0.4271915 ],\n",
              "        [ 0.14026146,  0.15943381,  0.31322226]], dtype=float32),\n",
              " array([-0.08775289,  0.00280645,  0.06349376], dtype=float32)]"
            ]
          },
          "metadata": {},
          "execution_count": 159
        }
      ]
    },
    {
      "cell_type": "code",
      "metadata": {
        "scrolled": true,
        "id": "nhPK4V6nLtVx",
        "colab": {
          "base_uri": "https://localhost:8080/"
        },
        "outputId": "e6d50d2e-7be8-4793-b8cf-2670705689e4"
      },
      "source": [
        "model.save(dir+\"dnn_iris.h5\")\n",
        "print(\"Saved model to disk.\")\n",
        "\n",
        "#load and evaluate the saved model\n",
        "from numpy import loadtxt\n",
        "from tensorflow.python.keras.models import load_model\n",
        "\n",
        "#load model\n",
        "loaded_model = load_model(dir+\"dnn_iris.h5\")\n",
        "model.summary()\n",
        "\n",
        "score = model.evaluate(X_test, y_test)\n",
        "print('test_loss: ', score[0])\n",
        "print('test_acc: ', score[1])"
      ],
      "execution_count": 160,
      "outputs": [
        {
          "output_type": "stream",
          "name": "stdout",
          "text": [
            "Saved model to disk.\n",
            "Model: \"sequential_11\"\n",
            "_________________________________________________________________\n",
            "Layer (type)                 Output Shape              Param #   \n",
            "=================================================================\n",
            "dense_35 (Dense)             (None, 64)                320       \n",
            "_________________________________________________________________\n",
            "activation_35 (Activation)   (None, 64)                0         \n",
            "_________________________________________________________________\n",
            "dropout_24 (Dropout)         (None, 64)                0         \n",
            "_________________________________________________________________\n",
            "dense_36 (Dense)             (None, 32)                2080      \n",
            "_________________________________________________________________\n",
            "activation_36 (Activation)   (None, 32)                0         \n",
            "_________________________________________________________________\n",
            "dropout_25 (Dropout)         (None, 32)                0         \n",
            "_________________________________________________________________\n",
            "dense_37 (Dense)             (None, 3)                 99        \n",
            "_________________________________________________________________\n",
            "activation_37 (Activation)   (None, 3)                 0         \n",
            "=================================================================\n",
            "Total params: 2,499\n",
            "Trainable params: 2,499\n",
            "Non-trainable params: 0\n",
            "_________________________________________________________________\n",
            "2/2 [==============================] - 0s 7ms/step - loss: 0.1037 - accuracy: 1.0000\n",
            "test_loss:  0.10372401028871536\n",
            "test_acc:  1.0\n"
          ]
        }
      ]
    },
    {
      "cell_type": "code",
      "metadata": {
        "id": "X8sQr21XLtVy",
        "colab": {
          "base_uri": "https://localhost:8080/"
        },
        "outputId": "a50b9c63-9912-441d-f402-49c130eb6cc8"
      },
      "source": [
        "# X_test의 예측 클래스 확인하기\n",
        "y_prob = model.predict(X_test)  # output node의 출력값 확인하기\n",
        "print(y_prob)\n",
        "\n",
        "y_class = y_prob.argmax(axis=-1)  # output node의 예측값(class) 확인하기\n",
        "y_class"
      ],
      "execution_count": 161,
      "outputs": [
        {
          "output_type": "stream",
          "name": "stdout",
          "text": [
            "[[9.81357753e-01 2.29901964e-08 1.86421946e-02]\n",
            " [9.51393962e-01 3.57366190e-07 4.86057475e-02]\n",
            " [9.13904700e-03 6.23328052e-03 9.84627664e-01]\n",
            " [9.64121580e-01 3.11075006e-08 3.58783416e-02]\n",
            " [3.14289661e-09 9.99704659e-01 2.95279839e-04]\n",
            " [2.04665840e-09 9.99772727e-01 2.27311757e-04]\n",
            " [4.74362077e-11 9.99953985e-01 4.60340598e-05]\n",
            " [8.84346664e-01 2.43018076e-06 1.15650915e-01]\n",
            " [9.18929815e-01 5.46260310e-07 8.10695961e-02]\n",
            " [1.15339205e-01 1.65159494e-04 8.84495616e-01]\n",
            " [1.02999864e-09 9.99811232e-01 1.88807011e-04]\n",
            " [2.44697556e-02 8.51850957e-04 9.74678457e-01]\n",
            " [1.12457890e-10 9.99932528e-01 6.74770345e-05]\n",
            " [3.07105985e-02 1.40851131e-04 9.69148576e-01]\n",
            " [8.03623617e-01 9.79894139e-07 1.96375445e-01]\n",
            " [9.77223873e-01 2.44088881e-07 2.27759462e-02]\n",
            " [5.98061644e-03 1.23963389e-03 9.92779791e-01]\n",
            " [1.33400690e-02 1.04365894e-03 9.85616326e-01]\n",
            " [2.20279639e-09 9.99742687e-01 2.57250096e-04]\n",
            " [1.23006068e-08 9.99426126e-01 5.73924801e-04]\n",
            " [5.16862908e-09 9.99614358e-01 3.85665247e-04]\n",
            " [9.82282817e-01 4.29492069e-08 1.77171268e-02]\n",
            " [8.66566122e-01 1.48163122e-06 1.33432403e-01]\n",
            " [9.26411986e-01 3.88487564e-07 7.35875890e-02]\n",
            " [4.09893772e-08 9.99097824e-01 9.02171538e-04]\n",
            " [6.02270663e-03 5.28137607e-04 9.93449152e-01]\n",
            " [9.95209038e-01 5.94901128e-10 4.79096826e-03]\n",
            " [1.88712571e-02 1.14505005e-03 9.79983628e-01]\n",
            " [1.22502730e-10 9.99927163e-01 7.28690648e-05]\n",
            " [3.29821408e-01 1.65563368e-04 6.70013011e-01]\n",
            " [1.66574091e-01 2.98822968e-04 8.33127081e-01]\n",
            " [4.98471650e-07 9.95911956e-01 4.08758875e-03]\n",
            " [4.99788877e-10 9.99876380e-01 1.23547739e-04]\n",
            " [5.93397021e-01 1.77546899e-05 4.06585187e-01]\n",
            " [4.86188263e-01 2.37472232e-05 5.13788044e-01]\n",
            " [9.48816895e-01 4.78528790e-08 5.11830747e-02]\n",
            " [5.88383079e-01 2.40843583e-05 4.11592871e-01]\n",
            " [9.66841042e-01 4.32654957e-07 3.31584215e-02]\n",
            " [5.57089210e-01 1.49634457e-06 4.42909300e-01]\n",
            " [9.86064553e-01 7.75290516e-08 1.39353303e-02]\n",
            " [1.07876170e-08 9.99436319e-01 5.63712150e-04]\n",
            " [4.48334077e-03 3.61565477e-03 9.91900980e-01]\n",
            " [9.35753584e-01 3.39019920e-07 6.42460585e-02]\n",
            " [2.35544425e-02 1.42283941e-04 9.76303339e-01]\n",
            " [1.04539017e-08 9.99430597e-01 5.69387455e-04]\n",
            " [1.31226435e-01 2.71129014e-04 8.68502438e-01]\n",
            " [8.15125406e-01 1.52539667e-06 1.84873000e-01]\n",
            " [5.47386169e-01 4.52041650e-06 4.52609330e-01]\n",
            " [1.52711941e-08 9.99345720e-01 6.54299336e-04]]\n"
          ]
        },
        {
          "output_type": "execute_result",
          "data": {
            "text/plain": [
              "array([0, 0, 2, 0, 1, 1, 1, 0, 0, 2, 1, 2, 1, 2, 0, 0, 2, 2, 1, 1, 1, 0,\n",
              "       0, 0, 1, 2, 0, 2, 1, 2, 2, 1, 1, 0, 2, 0, 0, 0, 0, 0, 1, 2, 0, 2,\n",
              "       1, 2, 0, 0, 1])"
            ]
          },
          "metadata": {},
          "execution_count": 161
        }
      ]
    },
    {
      "cell_type": "code",
      "metadata": {
        "id": "34Xez1yYLtV0",
        "colab": {
          "base_uri": "https://localhost:8080/"
        },
        "outputId": "f8e3657d-4387-4508-f8e1-df18979a57c0"
      },
      "source": [
        "# 새로운 샘플의 예측 클래스 확인하기\n",
        "X_new = [5.7, 3.8, 1.7, 0.3]\n",
        "\n",
        "print(X_new)\n",
        "\n",
        "y_prob = model.predict([X_new])\n",
        "y_pred = y_prob.argmax()\n",
        "print(y_prob, y_pred)"
      ],
      "execution_count": 169,
      "outputs": [
        {
          "output_type": "stream",
          "name": "stdout",
          "text": [
            "[5.7, 3.8, 1.7, 0.3]\n",
            "[[7.2277356e-10 9.9982733e-01 1.7267295e-04]] 1\n"
          ]
        }
      ]
    }
  ]
}